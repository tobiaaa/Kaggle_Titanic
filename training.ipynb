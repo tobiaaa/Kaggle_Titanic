{
 "cells": [
  {
   "cell_type": "markdown",
   "source": [
    "# Titanic Kaggle Challenge\n",
    "Notebook for Training and Evaluation"
   ],
   "metadata": {
    "collapsed": false,
    "pycharm": {
     "name": "#%% md\n"
    }
   }
  },
  {
   "cell_type": "code",
   "execution_count": null,
   "outputs": [],
   "source": [
    "from google.colab import drive\n",
    "drive.mount('/content/drive')"
   ],
   "metadata": {
    "collapsed": false,
    "pycharm": {
     "name": "#%%\n"
    }
   }
  },
  {
   "cell_type": "code",
   "execution_count": 1,
   "outputs": [],
   "source": [
    "import torch as th\n",
    "import numpy as np\n",
    "import sys\n",
    "sys.path.append('/content/drive/MyDrive/Titanic/Kaggle_Titanic')\n",
    "\n",
    "import dataset\n",
    "import evaluation\n",
    "from model import Model\n",
    "\n",
    "from tqdm import tqdm"
   ],
   "metadata": {
    "collapsed": false,
    "pycharm": {
     "name": "#%%\n"
    }
   }
  },
  {
   "cell_type": "code",
   "execution_count": 2,
   "outputs": [],
   "source": [
    "use_cuda = th.cuda.is_available()\n",
    "device = th.device(\"cuda:0\" if use_cuda else \"cpu\")\n",
    "th.backends.cudnn.benchmark = True"
   ],
   "metadata": {
    "collapsed": false,
    "pycharm": {
     "name": "#%%\n"
    }
   }
  },
  {
   "cell_type": "code",
   "execution_count": 3,
   "outputs": [],
   "source": [
    "train_set = dataset.DatasetCSV(\"\")\n",
    "dataloader = th.utils.data.DataLoader(train_set,\n",
    "                                      batch_size=16,\n",
    "                                      shuffle=True,\n",
    "                                      num_workers=2)\n",
    "\n",
    "test_set = dataset.DatasetCSV(\"\")\n",
    "\n",
    "test_loader = th.utils.data.DataLoader(test_set,\n",
    "                                       batch_size=16,\n",
    "                                       shuffle=True)\n",
    "\n",
    "model = Model(31)\n",
    "if use_cuda:\n",
    "    model = model.cuda()"
   ],
   "metadata": {
    "collapsed": false,
    "pycharm": {
     "name": "#%%\n"
    }
   }
  },
  {
   "cell_type": "code",
   "execution_count": 4,
   "outputs": [],
   "source": [
    "criterion = th.nn.BCELoss()\n",
    "opt = th.optim.Adam(model.parameters(), 1e-3, weight_decay=0.0001)\n",
    "lr_schedule = th.optim.lr_scheduler.ExponentialLR(opt, 0.999)"
   ],
   "metadata": {
    "collapsed": false,
    "pycharm": {
     "name": "#%%\n"
    }
   }
  },
  {
   "cell_type": "markdown",
   "source": [
    "Training Loop"
   ],
   "metadata": {
    "collapsed": false,
    "pycharm": {
     "name": "#%% md\n"
    }
   }
  },
  {
   "cell_type": "code",
   "execution_count": null,
   "outputs": [],
   "source": [
    "for epoch in range(100):\n",
    "    iterator = tqdm(dataloader, desc=f'Epoch: {epoch}/100')\n",
    "    loss_hist = []\n",
    "    model.train()\n",
    "    tracker = evaluation.EvaluationTracker()\n",
    "    for x, y in iterator:\n",
    "        x, y = x.to(device), y.to(device)\n",
    "        y_pred = model(x)\n",
    "        loss = criterion(y_pred, y)\n",
    "        opt.zero_grad()\n",
    "        loss.backward()\n",
    "        opt.step()\n",
    "\n",
    "        loss_val = loss.item()\n",
    "        iterator.set_postfix({'Loss': loss_val})\n",
    "        loss_hist.append(loss_val)\n",
    "        tracker(y_pred=y_pred, y_true=y)\n",
    "        lr_schedule.step()\n",
    "\n",
    "    if epoch % 10 == 0:\n",
    "        # Evaluation\n",
    "        model.eval()\n",
    "        test_tracker = evaluation.EvaluationTracker()\n",
    "        with th.no_grad():\n",
    "            for x, y in iterator:\n",
    "                x, y = x.to(device), y.to(device)\n",
    "                y_pred = model(x)\n",
    "                test_tracker(y_pred=y_pred, y_true=y)\n",
    "\n",
    "        print(\"Evaluation: \")\n",
    "        print(test_tracker)\n",
    "\n",
    "\n",
    "    print(f'Mean Loss: {np.mean(loss_hist)}')"
   ],
   "metadata": {
    "collapsed": false,
    "pycharm": {
     "name": "#%%\n",
     "is_executing": true
    }
   }
  },
  {
   "cell_type": "code",
   "execution_count": null,
   "outputs": [],
   "source": [],
   "metadata": {
    "collapsed": false,
    "pycharm": {
     "name": "#%%\n"
    }
   }
  }
 ],
 "metadata": {
  "kernelspec": {
   "display_name": "Python 3",
   "language": "python",
   "name": "python3"
  },
  "language_info": {
   "codemirror_mode": {
    "name": "ipython",
    "version": 2
   },
   "file_extension": ".py",
   "mimetype": "text/x-python",
   "name": "python",
   "nbconvert_exporter": "python",
   "pygments_lexer": "ipython2",
   "version": "2.7.6"
  }
 },
 "nbformat": 4,
 "nbformat_minor": 0
}